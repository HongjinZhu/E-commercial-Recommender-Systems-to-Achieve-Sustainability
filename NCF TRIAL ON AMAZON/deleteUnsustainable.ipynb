{
 "cells": [
  {
   "cell_type": "code",
   "execution_count": null,
   "id": "735b19fa",
   "metadata": {},
   "outputs": [],
   "source": [
    "import pandas as pd # data processing, CSV file I/O (e.g. pd.read_csv)\n",
    "\n",
    "import random\n",
    "import pandas as pd\n",
    "import numpy as np\n",
    "from copy import deepcopy\n",
    "import os\n",
    "\n",
    "\n",
    "random.seed(0)"
   ]
  },
  {
   "cell_type": "code",
   "execution_count": null,
   "id": "46ace058",
   "metadata": {},
   "outputs": [],
   "source": [
    "item_df = pd.read_csv('cleanedElec.csv',names=['uid','mid','rating','timestamp'])\n",
    "label_df = pd.read_csv('final.csv',names=['iid'])"
   ]
  },
  {
   "cell_type": "code",
   "execution_count": null,
   "id": "3bed7df9",
   "metadata": {},
   "outputs": [],
   "source": [
    "l=[]\n",
    "for i in item_df['mid'].tolist():\n",
    "    if i in label_df['iid'].tolist():\n",
    "        print(i)\n",
    "        l.append(1)\n",
    "    else:\n",
    "        l.append(0)"
   ]
  },
  {
   "cell_type": "code",
   "execution_count": null,
   "id": "cfa82b48",
   "metadata": {},
   "outputs": [],
   "source": [
    "item_df.to_csv('sustdata.csv',sep=',',index=False,header=False)"
   ]
  },
  {
   "cell_type": "code",
   "execution_count": null,
   "id": "9a1291f9",
   "metadata": {},
   "outputs": [],
   "source": [
    "noLabel = item_df[item_df['sust']==0]\n",
    "uni_item = noLabel['mid'].unique().tolist()\n",
    "delItem = uni_item[:520000]\n",
    "keep_item=item_df.drop(item_df[item_df['mid'].isin(delItem)].index)\n",
    "keep_item.to_csv('sampledData.csv',sep=',',index=False,header=False)"
   ]
  }
 ],
 "metadata": {
  "kernelspec": {
   "display_name": "Python 3 (ipykernel)",
   "language": "python",
   "name": "python3"
  },
  "language_info": {
   "codemirror_mode": {
    "name": "ipython",
    "version": 3
   },
   "file_extension": ".py",
   "mimetype": "text/x-python",
   "name": "python",
   "nbconvert_exporter": "python",
   "pygments_lexer": "ipython3",
   "version": "3.9.13"
  }
 },
 "nbformat": 4,
 "nbformat_minor": 5
}
