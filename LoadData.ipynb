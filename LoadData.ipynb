{
 "cells": [
  {
   "cell_type": "code",
   "execution_count": null,
   "id": "e27b62a9",
   "metadata": {},
   "outputs": [],
   "source": [
    "import numpy as np # linear algebra\n",
    "import pandas as pd # data processing, CSV file I/O (e.g. pd.read_csv)\n",
    "import os\n",
    "import glob\n",
    "from IPython.core.interactiveshell import InteractiveShell\n",
    "InteractiveShell.ast_node_interactivity = \"all\"\n",
    "import math\n",
    "import json\n",
    "import time\n",
    "\n",
    "import warnings; warnings.simplefilter('ignore')\n",
    "%matplotlib inline\n",
    "\n",
    "# for dirname, _, filenames in os.walk('/capstone/input'):\n",
    "#     for filename in filenames:\n",
    "#         print(os.path.join(dirname, filename))\n",
    "\n",
    "# Any results you write to the current directory are saved as output."
   ]
  },
  {
   "cell_type": "code",
   "execution_count": null,
   "id": "95cd17bb",
   "metadata": {},
   "outputs": [],
   "source": [
    "# load all data categories\n",
    "# use glob to get all the csv files in the folder\n",
    "  \n",
    "path = r'amazon-product-reviews' # use your path\n",
    "all_files = glob.glob(path + \"/*.csv\")\n",
    "\n",
    "li = []\n",
    "\n",
    "for filename in all_files:\n",
    "    df = pd.read_csv(filename, names=['productId','userId', 'Rating','timestamp'])\n",
    "    li.append(df)"
   ]
  },
  {
   "cell_type": "code",
   "execution_count": null,
   "id": "d5c65660",
   "metadata": {},
   "outputs": [],
   "source": [
    "unique_li = []\n",
    "for df in li:\n",
    "    # unique_li.append(df[\"productId\"].unique())\n",
    "    unique_li.append(df[\"productId\"].drop_duplicates())\n",
    "    \n",
    "unique_li"
   ]
  },
  {
   "cell_type": "code",
   "execution_count": null,
   "id": "5ad385c3",
   "metadata": {},
   "outputs": [],
   "source": [
    "# concatenate df, memory error\n",
    "frame = pd.concat(unique_li)\n",
    "# frame = pd.concat(li, axis=0, ignore_index=True)\n",
    "frame"
   ]
  },
  {
   "cell_type": "code",
   "execution_count": null,
   "id": "d0d48d6d",
   "metadata": {},
   "outputs": [],
   "source": [
    "frame.to_csv('unique_asin.csv', encoding='utf-8')"
   ]
  },
  {
   "cell_type": "code",
   "execution_count": null,
   "id": "f65ab59e",
   "metadata": {},
   "outputs": [],
   "source": [
    "# print(df.shape)"
   ]
  },
  {
   "cell_type": "code",
   "execution_count": null,
   "id": "793cebd7",
   "metadata": {},
   "outputs": [],
   "source": [
    "# len(df[\"asin\"].unique())"
   ]
  },
  {
   "cell_type": "code",
   "execution_count": null,
   "id": "96e60a0f",
   "metadata": {},
   "outputs": [],
   "source": [
    "# def parse(path):\n",
    "#   g = gzip.open(path, 'r')\n",
    "#   for l in g:\n",
    "#     yield json.loads(l)\n",
    "    \n",
    "# import gzip\n",
    "\n",
    "# def parse(path):\n",
    "#   g = gzip.open(path, 'rb')\n",
    "#   for l in g:\n",
    "#     yield json.loads(l)\n",
    "\n",
    "# def getDF(path):\n",
    "#   i = 0\n",
    "#   df = {}\n",
    "#   for d in parse(path):\n",
    "#     df[i] = d\n",
    "#     i += 1\n",
    "#   return pd.DataFrame.from_dict(df, orient='index')\n",
    "\n",
    "# df = getDF(r'\\amazon-product-reviews\\Electronics_5.json.gz')\n",
    "# df"
   ]
  },
  {
   "cell_type": "markdown",
   "id": "5a93ada5",
   "metadata": {},
   "source": [
    "### Item-to-Item Collaborative Filtering (try)\n",
    "\n",
    "https://www.kaggle.com/code/saurav9786/recommender-system-using-amazon-reviews\n",
    "\n",
    "http://www.cs.umd.edu/~samir/498/Amazon-Recommendations.pdf"
   ]
  },
  {
   "cell_type": "code",
   "execution_count": null,
   "id": "173c1c02",
   "metadata": {},
   "outputs": [],
   "source": [
    "from surprise import KNNWithMeans\n",
    "from surprise import Dataset\n",
    "from surprise import accuracy\n",
    "from surprise import Reader\n",
    "import os\n",
    "from surprise.model_selection import train_test_split"
   ]
  },
  {
   "cell_type": "code",
   "execution_count": null,
   "id": "318d538f",
   "metadata": {},
   "outputs": [],
   "source": [
    "import matplotlib.pyplot as plt\n",
    "import seaborn as sns\n",
    "from sklearn.metrics.pairwise import cosine_similarity\n",
    "from sklearn.model_selection import train_test_split\n",
    "from sklearn.neighbors import NearestNeighbors\n",
    "# from sklearn.externals import joblib\n",
    "import scipy.sparse\n",
    "from scipy.sparse import csr_matrix\n",
    "from scipy.sparse.linalg import svds"
   ]
  },
  {
   "cell_type": "code",
   "execution_count": null,
   "id": "d4541fd3",
   "metadata": {},
   "outputs": [],
   "source": [
    "#Reading the dataset\n",
    "reader = Reader(rating_scale=(1, 5))\n",
    "data = Dataset.load_from_df(new_df,reader)"
   ]
  },
  {
   "cell_type": "code",
   "execution_count": null,
   "id": "6a7f75e5",
   "metadata": {},
   "outputs": [],
   "source": [
    "#Splitting the dataset\n",
    "trainset, testset = train_test_split(data, test_size=0.3,random_state=10)"
   ]
  },
  {
   "cell_type": "code",
   "execution_count": null,
   "id": "5092095b",
   "metadata": {},
   "outputs": [],
   "source": [
    "# Use user_based true/false to switch between user-based or item-based collaborative filtering\n",
    "algo = KNNWithMeans(k=5, sim_options={'name': 'pearson_baseline', 'user_based': False})\n",
    "algo.fit(trainset)"
   ]
  },
  {
   "cell_type": "code",
   "execution_count": null,
   "id": "50a7d02d",
   "metadata": {},
   "outputs": [],
   "source": [
    "# run the trained model against the testset\n",
    "test_pred = algo.test(testset)"
   ]
  },
  {
   "cell_type": "code",
   "execution_count": null,
   "id": "6cdc3941",
   "metadata": {},
   "outputs": [],
   "source": [
    "# get RMSE\n",
    "print(\"Item-based Model : Test Set\")\n",
    "accuracy.rmse(test_pred, verbose=True)"
   ]
  },
  {
   "cell_type": "code",
   "execution_count": null,
   "id": "2105529b",
   "metadata": {},
   "outputs": [],
   "source": [
    "new_df1=new_df.head(10000)\n",
    "ratings_matrix = new_df1.pivot_table(values='Rating', index='userId', columns='productId', fill_value=0)\n",
    "ratings_matrix.head()"
   ]
  }
 ],
 "metadata": {
  "kernelspec": {
   "display_name": "Python 3 (ipykernel)",
   "language": "python",
   "name": "python3"
  },
  "language_info": {
   "codemirror_mode": {
    "name": "ipython",
    "version": 3
   },
   "file_extension": ".py",
   "mimetype": "text/x-python",
   "name": "python",
   "nbconvert_exporter": "python",
   "pygments_lexer": "ipython3",
   "version": "3.9.12"
  },
  "vscode": {
   "interpreter": {
    "hash": "aec2b49f0b156ccbd13eb3ced1f831c079eaadace1c55dfffcf3bc16a9a14954"
   }
  }
 },
 "nbformat": 4,
 "nbformat_minor": 5
}
